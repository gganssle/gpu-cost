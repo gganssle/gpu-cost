{
 "cells": [
  {
   "cell_type": "markdown",
   "metadata": {},
   "source": [
    "# GPU Compute Cost\n",
    "\n",
    "This notebook was used to deterimine what type of GPU system to use for training and testing some deep learning models I'm working on. The costs are accurate as of 20171101. Here are my notes from Googleing:\n"
   ]
  },
  {
   "cell_type": "markdown",
   "metadata": {},
   "source": [
    "* AWS (dollars per hour)\n",
    "    * P2 - Tesla K80\n",
    "        * XL - 0.9\n",
    "        * 8XL - 7.2\n",
    "        * 16XL - 14.4\n",
    "    * P3 - Tesla V100\n",
    "        * 2XL - 3.06\n",
    "        * 8XL - 12.24\n",
    "        * 16XL - 24.48\n",
    "* GCP (dollars per hour)\n",
    "    * Tesla P100\n",
    "        * 1 gpu - 2.30\n",
    "        * 2 gpu - 4.60\n",
    "        * 4 gpu - 9.2\n",
    "    * Tesla K80\n",
    "        * 1 - .7\n",
    "        * 2 - 1.4\n",
    "        * 4 - 2.8\n",
    "        * 8 - 5.6\n",
    "* NVIDIA DGX\n",
    "    * Station\n",
    "        * 4x Tesla V100s\n",
    "        * Max Power req - 1500W\n",
    "        * 69k dollars + support plan (15k dollars per year estimated from google search)\n",
    "    * DGX-1\n",
    "        * 8x Tesla v100s\n",
    "        * Max power req - 3200W\n",
    "        * 150k dollars + support plan (30k dollars per year estimated from google search)\n",
    "* Home built GPU workstation\n",
    "    * Deeplearning 11\n",
    "        * 16,500 bucks\n",
    "        * 10x NVIDIA GTX 1080Ti\n",
    "        * Average Power req - 3000W\n",
    "        * “We are spending around 1k bucks per month on power”\n",
    "        * GTX 1080Ti compute capability 6.1, P100 = 6.0 ??? wow\n",
    "        * Comparable to p2.16xlarge"
   ]
  },
  {
   "cell_type": "code",
   "execution_count": 1,
   "metadata": {},
   "outputs": [],
   "source": [
    "import numpy as np\n",
    "import matplotlib.pyplot as plt"
   ]
  },
  {
   "cell_type": "code",
   "execution_count": null,
   "metadata": {},
   "outputs": [],
   "source": []
  }
 ],
 "metadata": {
  "kernelspec": {
   "display_name": "Python 3",
   "language": "python",
   "name": "python3"
  },
  "language_info": {
   "codemirror_mode": {
    "name": "ipython",
    "version": 3
   },
   "file_extension": ".py",
   "mimetype": "text/x-python",
   "name": "python",
   "nbconvert_exporter": "python",
   "pygments_lexer": "ipython3",
   "version": "3.5.2"
  }
 },
 "nbformat": 4,
 "nbformat_minor": 2
}
